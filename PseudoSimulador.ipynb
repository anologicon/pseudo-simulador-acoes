{
 "cells": [
  {
   "cell_type": "code",
   "execution_count": 55,
   "metadata": {},
   "outputs": [],
   "source": [
    "import numpy as np\n",
    "import pandas as pd\n",
    "from pandas_datareader import data as wb\n",
    "import matplotlib.pyplot as plt\n",
    "%matplotlib inline\n",
    "from scipy import stats\n",
    "import statsmodels.api as sm"
   ]
  },
  {
   "cell_type": "code",
   "execution_count": 56,
   "metadata": {},
   "outputs": [],
   "source": [
    "ticker = 'CIEL3.SA'\n",
    "\n",
    "data = wb.DataReader(ticker, data_source='yahoo', start='2020-1-1')"
   ]
  },
  {
   "cell_type": "code",
   "execution_count": 57,
   "metadata": {},
   "outputs": [],
   "source": [
    "sinal = data.copy()"
   ]
  },
  {
   "cell_type": "code",
   "execution_count": 123,
   "metadata": {},
   "outputs": [],
   "source": [
    "short_window = 17\n",
    "long_window = 34"
   ]
  },
  {
   "cell_type": "code",
   "execution_count": 124,
   "metadata": {},
   "outputs": [],
   "source": [
    "sinal['sinal'] = 0"
   ]
  },
  {
   "cell_type": "code",
   "execution_count": 125,
   "metadata": {},
   "outputs": [],
   "source": [
    "sinal['short_mavg'] = data['Close'].rolling(window=short_window, min_periods=1, center=False).mean()\n",
    "sinal['long_mavg'] = data['Close'].rolling(window=long_window, min_periods=1, center=False).mean()"
   ]
  },
  {
   "cell_type": "code",
   "execution_count": 126,
   "metadata": {},
   "outputs": [
    {
     "name": "stderr",
     "output_type": "stream",
     "text": [
      "/opt/conda/lib/python3.7/site-packages/ipykernel_launcher.py:1: SettingWithCopyWarning: \n",
      "A value is trying to be set on a copy of a slice from a DataFrame\n",
      "\n",
      "See the caveats in the documentation: https://pandas.pydata.org/pandas-docs/stable/user_guide/indexing.html#returning-a-view-versus-a-copy\n",
      "  \"\"\"Entry point for launching an IPython kernel.\n"
     ]
    }
   ],
   "source": [
    "sinal['sinal'][short_window:] = np.where(sinal['short_mavg'][short_window:] > sinal['long_mavg'][short_window:], 1.0, 0.0)"
   ]
  },
  {
   "cell_type": "code",
   "execution_count": 127,
   "metadata": {},
   "outputs": [],
   "source": [
    "sinal['Posicao'] = sinal['sinal'].diff()"
   ]
  },
  {
   "cell_type": "code",
   "execution_count": 128,
   "metadata": {},
   "outputs": [],
   "source": [
    "tradeData = sinal[['Close', 'Posicao']]"
   ]
  },
  {
   "cell_type": "code",
   "execution_count": 129,
   "metadata": {},
   "outputs": [
    {
     "data": {
      "text/html": [
       "<div>\n",
       "<style scoped>\n",
       "    .dataframe tbody tr th:only-of-type {\n",
       "        vertical-align: middle;\n",
       "    }\n",
       "\n",
       "    .dataframe tbody tr th {\n",
       "        vertical-align: top;\n",
       "    }\n",
       "\n",
       "    .dataframe thead th {\n",
       "        text-align: right;\n",
       "    }\n",
       "</style>\n",
       "<table border=\"1\" class=\"dataframe\">\n",
       "  <thead>\n",
       "    <tr style=\"text-align: right;\">\n",
       "      <th></th>\n",
       "      <th>Close</th>\n",
       "      <th>Posicao</th>\n",
       "    </tr>\n",
       "    <tr>\n",
       "      <th>Date</th>\n",
       "      <th></th>\n",
       "      <th></th>\n",
       "    </tr>\n",
       "  </thead>\n",
       "  <tbody>\n",
       "    <tr>\n",
       "      <th>2020-01-02</th>\n",
       "      <td>8.57</td>\n",
       "      <td>NaN</td>\n",
       "    </tr>\n",
       "    <tr>\n",
       "      <th>2020-01-03</th>\n",
       "      <td>8.46</td>\n",
       "      <td>0.0</td>\n",
       "    </tr>\n",
       "    <tr>\n",
       "      <th>2020-01-06</th>\n",
       "      <td>8.25</td>\n",
       "      <td>0.0</td>\n",
       "    </tr>\n",
       "    <tr>\n",
       "      <th>2020-01-07</th>\n",
       "      <td>8.01</td>\n",
       "      <td>0.0</td>\n",
       "    </tr>\n",
       "    <tr>\n",
       "      <th>2020-01-08</th>\n",
       "      <td>7.83</td>\n",
       "      <td>0.0</td>\n",
       "    </tr>\n",
       "    <tr>\n",
       "      <th>...</th>\n",
       "      <td>...</td>\n",
       "      <td>...</td>\n",
       "    </tr>\n",
       "    <tr>\n",
       "      <th>2020-07-30</th>\n",
       "      <td>4.84</td>\n",
       "      <td>0.0</td>\n",
       "    </tr>\n",
       "    <tr>\n",
       "      <th>2020-07-31</th>\n",
       "      <td>5.37</td>\n",
       "      <td>0.0</td>\n",
       "    </tr>\n",
       "    <tr>\n",
       "      <th>2020-08-03</th>\n",
       "      <td>5.40</td>\n",
       "      <td>0.0</td>\n",
       "    </tr>\n",
       "    <tr>\n",
       "      <th>2020-08-04</th>\n",
       "      <td>5.13</td>\n",
       "      <td>0.0</td>\n",
       "    </tr>\n",
       "    <tr>\n",
       "      <th>2020-08-05</th>\n",
       "      <td>5.06</td>\n",
       "      <td>0.0</td>\n",
       "    </tr>\n",
       "  </tbody>\n",
       "</table>\n",
       "<p>148 rows × 2 columns</p>\n",
       "</div>"
      ],
      "text/plain": [
       "            Close  Posicao\n",
       "Date                      \n",
       "2020-01-02   8.57      NaN\n",
       "2020-01-03   8.46      0.0\n",
       "2020-01-06   8.25      0.0\n",
       "2020-01-07   8.01      0.0\n",
       "2020-01-08   7.83      0.0\n",
       "...           ...      ...\n",
       "2020-07-30   4.84      0.0\n",
       "2020-07-31   5.37      0.0\n",
       "2020-08-03   5.40      0.0\n",
       "2020-08-04   5.13      0.0\n",
       "2020-08-05   5.06      0.0\n",
       "\n",
       "[148 rows x 2 columns]"
      ]
     },
     "execution_count": 129,
     "metadata": {},
     "output_type": "execute_result"
    }
   ],
   "source": [
    "tradeData"
   ]
  },
  {
   "cell_type": "code",
   "execution_count": 130,
   "metadata": {},
   "outputs": [
    {
     "data": {
      "image/png": "[encoded data removed]",
      "text/plain": [
       "<Figure size 1080x432 with 1 Axes>"
      ]
     },
     "metadata": {
      "needs_background": "light"
     },
     "output_type": "display_data"
    }
   ],
   "source": [
    "fig = plt.figure(figsize=(15,6))\n",
    "\n",
    "ax1 = fig.add_subplot(111,  ylabel='Preço fechamento')\n",
    "\n",
    "sinal['Close'].plot(ax=ax1, color='r', lw=2.)\n",
    "\n",
    "ax1.plot(sinal.loc[sinal['Posicao'] == 1.0].index,\n",
    "        sinal.Close[sinal['Posicao'] == 1.0],\n",
    "        '^', markersize=10,color='m')\n",
    "\n",
    "ax1.plot(sinal.loc[sinal['Posicao'] == -1.0].index,\n",
    "        sinal.Close[sinal['Posicao'] == -1.0],\n",
    "        'v', markersize=10,color='k')\n",
    "\n",
    "plt.show()"
   ]
  },
  {
   "cell_type": "code",
   "execution_count": 131,
   "metadata": {},
   "outputs": [],
   "source": [
    "capital_inicial = float(40)\n",
    "\n",
    "positions = pd.DataFrame(index=sinal.index).fillna(0.0)"
   ]
  },
  {
   "cell_type": "code",
   "execution_count": 132,
   "metadata": {},
   "outputs": [],
   "source": [
    "positions[ticker] = 5*sinal['sinal']"
   ]
  },
  {
   "cell_type": "code",
   "execution_count": 136,
   "metadata": {},
   "outputs": [],
   "source": [
    "portifolio = positions.multiply(data['Close'], axis=0)"
   ]
  },
  {
   "cell_type": "code",
   "execution_count": 137,
   "metadata": {},
   "outputs": [],
   "source": [
    "pos_diff = positions.diff()"
   ]
  },
  {
   "cell_type": "code",
   "execution_count": 138,
   "metadata": {},
   "outputs": [],
   "source": [
    "portifolio['holdings'] = (positions.multiply(data['Adj Close'], axis=0)).sum(axis=1)"
   ]
  },
  {
   "cell_type": "code",
   "execution_count": 139,
   "metadata": {},
   "outputs": [],
   "source": [
    "portifolio['dinheiro'] = capital_inicial - (pos_diff.multiply(data['Adj Close'], axis=0)).sum(axis=1).cumsum()"
   ]
  },
  {
   "cell_type": "code",
   "execution_count": 140,
   "metadata": {},
   "outputs": [],
   "source": [
    "portifolio['total'] = portifolio['dinheiro'] + portifolio['holdings']"
   ]
  },
  {
   "cell_type": "code",
   "execution_count": 141,
   "metadata": {},
   "outputs": [],
   "source": [
    "portifolio['retorno'] = portifolio['total'].pct_change()"
   ]
  },
  {
   "cell_type": "code",
   "execution_count": 142,
   "metadata": {},
   "outputs": [
    {
     "data": {
      "text/html": [
       "<div>\n",
       "<style scoped>\n",
       "    .dataframe tbody tr th:only-of-type {\n",
       "        vertical-align: middle;\n",
       "    }\n",
       "\n",
       "    .dataframe tbody tr th {\n",
       "        vertical-align: top;\n",
       "    }\n",
       "\n",
       "    .dataframe thead th {\n",
       "        text-align: right;\n",
       "    }\n",
       "</style>\n",
       "<table border=\"1\" class=\"dataframe\">\n",
       "  <thead>\n",
       "    <tr style=\"text-align: right;\">\n",
       "      <th></th>\n",
       "      <th>CIEL3.SA</th>\n",
       "      <th>holdings</th>\n",
       "      <th>dinheiro</th>\n",
       "      <th>total</th>\n",
       "      <th>retorno</th>\n",
       "    </tr>\n",
       "    <tr>\n",
       "      <th>Date</th>\n",
       "      <th></th>\n",
       "      <th></th>\n",
       "      <th></th>\n",
       "      <th></th>\n",
       "      <th></th>\n",
       "    </tr>\n",
       "  </thead>\n",
       "  <tbody>\n",
       "    <tr>\n",
       "      <th>2020-07-30</th>\n",
       "      <td>24.200001</td>\n",
       "      <td>24.200001</td>\n",
       "      <td>13.600001</td>\n",
       "      <td>37.800002</td>\n",
       "      <td>-0.013055</td>\n",
       "    </tr>\n",
       "    <tr>\n",
       "      <th>2020-07-31</th>\n",
       "      <td>26.849999</td>\n",
       "      <td>26.849999</td>\n",
       "      <td>13.600001</td>\n",
       "      <td>40.450001</td>\n",
       "      <td>0.070106</td>\n",
       "    </tr>\n",
       "    <tr>\n",
       "      <th>2020-08-03</th>\n",
       "      <td>27.000000</td>\n",
       "      <td>27.000000</td>\n",
       "      <td>13.600001</td>\n",
       "      <td>40.600002</td>\n",
       "      <td>0.003708</td>\n",
       "    </tr>\n",
       "    <tr>\n",
       "      <th>2020-08-04</th>\n",
       "      <td>25.650001</td>\n",
       "      <td>25.650001</td>\n",
       "      <td>13.600001</td>\n",
       "      <td>39.250002</td>\n",
       "      <td>-0.033251</td>\n",
       "    </tr>\n",
       "    <tr>\n",
       "      <th>2020-08-05</th>\n",
       "      <td>25.300000</td>\n",
       "      <td>25.300000</td>\n",
       "      <td>13.600001</td>\n",
       "      <td>38.900001</td>\n",
       "      <td>-0.008917</td>\n",
       "    </tr>\n",
       "  </tbody>\n",
       "</table>\n",
       "</div>"
      ],
      "text/plain": [
       "             CIEL3.SA   holdings   dinheiro      total   retorno\n",
       "Date                                                            \n",
       "2020-07-30  24.200001  24.200001  13.600001  37.800002 -0.013055\n",
       "2020-07-31  26.849999  26.849999  13.600001  40.450001  0.070106\n",
       "2020-08-03  27.000000  27.000000  13.600001  40.600002  0.003708\n",
       "2020-08-04  25.650001  25.650001  13.600001  39.250002 -0.033251\n",
       "2020-08-05  25.300000  25.300000  13.600001  38.900001 -0.008917"
      ]
     },
     "execution_count": 142,
     "metadata": {},
     "output_type": "execute_result"
    }
   ],
   "source": [
    "portifolio.tail()"
   ]
  },
  {
   "cell_type": "code",
   "execution_count": 143,
   "metadata": {},
   "outputs": [
    {
     "data": {
      "image/png": "[encoded data removed]",
      "text/plain": [
       "<Figure size 1080x432 with 1 Axes>"
      ]
     },
     "metadata": {
      "needs_background": "light"
     },
     "output_type": "display_data"
    }
   ],
   "source": [
    "fig = plt.figure(figsize=(15,6))\n",
    "\n",
    "ax1 = fig.add_subplot(111,  ylabel='Preço fechamento')\n",
    "\n",
    "portifolio['total'].plot(ax=ax1, lw=2.)\n",
    "\n",
    "ax1.plot(portifolio.loc[sinal['Posicao'] == 1.0].index,\n",
    "        portifolio.total[sinal['Posicao'] == 1.0],\n",
    "        '^', markersize=10,color='m')\n",
    "\n",
    "ax1.plot(portifolio.loc[sinal['Posicao'] == -1.0].index,\n",
    "        portifolio.total[sinal['Posicao'] == -1.0],\n",
    "        'v', markersize=10,color='k')\n",
    "\n",
    "plt.show()"
   ]
  },
  {
   "cell_type": "code",
   "execution_count": null,
   "metadata": {},
   "outputs": [],
   "source": []
  },
  {
   "cell_type": "code",
   "execution_count": null,
   "metadata": {},
   "outputs": [],
   "source": []
  }
 ],
 "metadata": {
  "kernelspec": {
   "display_name": "Python 3",
   "language": "python",
   "name": "python3"
  },
  "language_info": {
   "codemirror_mode": {
    "name": "ipython",
    "version": 3
   },
   "file_extension": ".py",
   "mimetype": "text/x-python",
   "name": "python",
   "nbconvert_exporter": "python",
   "pygments_lexer": "ipython3",
   "version": "3.7.6"
  }
 },
 "nbformat": 4,
 "nbformat_minor": 4
}
